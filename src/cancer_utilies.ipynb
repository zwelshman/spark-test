{
 "cells": [
  {
   "cell_type": "code",
   "execution_count": 5,
   "source": [
    "from pyspark.sql.dataframe import DataFrame\n",
    "from pyspark.sql.functions import when, col"
   ],
   "outputs": [],
   "metadata": {}
  },
  {
   "cell_type": "code",
   "execution_count": 6,
   "source": [
    "class CreateCancerHighLevel_ML(DataFrame):\n",
    "    def __init__(self, df):\n",
    "        super().__init__(df._jdf, df.sql_ctx)\n",
    "        self._df = df\n",
    "\n",
    "    def chapters_C18_C21_Colorectal(self, column):\n",
    "        try:\n",
    "            df = self\n",
    "            return df.withColumn('Colorectal',\n",
    "                                when(\n",
    "                                    (df[column].contains('C18')) |\n",
    "                                    (df[column].contains('C19')) |\n",
    "                                    (df[column].contains('C20')) |\n",
    "                                    (df[column].contains('C21')), 1))\n",
    "\n",
    "        except Exception as e:\n",
    "            print(e)\n",
    "    \n",
    "    def chapters_C34_Lung(self, column):\n",
    "    \n",
    "        try:\n",
    "            df = self\n",
    "            return df.withColumn('Lung',\n",
    "                                    when((df[column].contains('C34')), 1))\n",
    "\n",
    "        except Exception as e:\n",
    "            print(e)"
   ],
   "outputs": [],
   "metadata": {}
  },
  {
   "cell_type": "code",
   "execution_count": 7,
   "source": [
    "print('notebook run')"
   ],
   "outputs": [
    {
     "output_type": "stream",
     "name": "stdout",
     "text": [
      "notebook run\n"
     ]
    }
   ],
   "metadata": {}
  },
  {
   "cell_type": "code",
   "execution_count": null,
   "source": [],
   "outputs": [],
   "metadata": {}
  }
 ],
 "metadata": {
  "orig_nbformat": 4,
  "language_info": {
   "name": "python",
   "version": "3.7.3",
   "mimetype": "text/x-python",
   "codemirror_mode": {
    "name": "ipython",
    "version": 3
   },
   "pygments_lexer": "ipython3",
   "nbconvert_exporter": "python",
   "file_extension": ".py"
  },
  "kernelspec": {
   "name": "python3",
   "display_name": "Python 3.7.3 64-bit ('datacan': conda)"
  },
  "interpreter": {
   "hash": "55e1c807bf74e3bee44c6f177465a4475907dcbf08bf86b21aa958a4d7df36bc"
  }
 },
 "nbformat": 4,
 "nbformat_minor": 2
}