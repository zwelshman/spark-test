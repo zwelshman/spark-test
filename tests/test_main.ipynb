{
 "cells": [
  {
   "cell_type": "code",
   "execution_count": 3,
   "source": [
    "%run ./test_colorectal.ipynb"
   ],
   "outputs": [],
   "metadata": {}
  }
 ],
 "metadata": {
  "orig_nbformat": 4,
  "language_info": {
   "name": "python",
   "version": "3.7.3",
   "mimetype": "text/x-python",
   "codemirror_mode": {
    "name": "ipython",
    "version": 3
   },
   "pygments_lexer": "ipython3",
   "nbconvert_exporter": "python",
   "file_extension": ".py"
  },
  "kernelspec": {
   "name": "python3",
   "display_name": "Python 3.7.3 64-bit ('datacan': conda)"
  },
  "interpreter": {
   "hash": "55e1c807bf74e3bee44c6f177465a4475907dcbf08bf86b21aa958a4d7df36bc"
  }
 },
 "nbformat": 4,
 "nbformat_minor": 2
}